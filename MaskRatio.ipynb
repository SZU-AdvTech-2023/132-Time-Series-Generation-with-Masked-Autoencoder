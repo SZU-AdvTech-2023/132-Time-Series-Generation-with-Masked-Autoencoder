{
 "cells": [
  {
   "cell_type": "markdown",
   "id": "e9d77826-6e5d-4c58-85cb-b3ff76d659e1",
   "metadata": {},
   "source": [
    "# Mask Ratio "
   ]
  },
  {
   "cell_type": "markdown",
   "id": "48e1c0b1-f8e3-44be-a13e-ffec70de3e71",
   "metadata": {},
   "source": [
    "This ipynb file shows the results of study on mask ratio.  **Full model files and supporting documents for running this note is available upon request.** "
   ]
  },
  {
   "cell_type": "code",
   "execution_count": 1,
   "id": "903dd86a-200f-4564-be46-aa82ac40c20e",
   "metadata": {},
   "outputs": [],
   "source": [
    "import os\n",
    "import json\n",
    "import argparse\n",
    "import numpy as np\n",
    "import pandas as pd\n",
    "from modules.utils import extract_factors, load_dict_npy"
   ]
  },
  {
   "cell_type": "code",
   "execution_count": null,
   "id": "de2eb0c8-e06c-493b-bec9-68b9de68c2a9",
   "metadata": {},
   "outputs": [],
   "source": [
    "home = os.getcwd()\n",
    "print(home)"
   ]
  },
  {
   "cell_type": "code",
   "execution_count": 3,
   "id": "18050592-1504-4e60-a3a6-f86932b2b058",
   "metadata": {},
   "outputs": [],
   "source": [
    "def find_results(experiment_name):\n",
    "    home = os.getcwd()\n",
    "    args = load_arguments(home)\n",
    "    factors = extract_factors(args.ts_size)\n",
    "    metrics_list = []\n",
    "\n",
    "    hyper_names = ['mask_size', 'num_masks']\n",
    "    \n",
    "    for mask_size in factors:\n",
    "        for num_masks in range(1, int(args.ts_size // mask_size)):\n",
    "            # Find the right config for the instance\n",
    "            hyper_values = [mask_size, num_masks]\n",
    "            hyper_comb = dict(zip(hyper_names, hyper_values))\n",
    "            instance_name = ','.join(['%s=%.4g' % (name, value) if isinstance(value, float)\n",
    "                                      else '%s=%s' % (name, str(value).replace(' ', '_'))\n",
    "                                      for name, value in hyper_comb.items()])\n",
    "            \n",
    "            storage_dir = os.path.join(home, 'storage')\n",
    "            experiment_dir = os.path.join(storage_dir, experiment_name)\n",
    "            instance_dir = os.path.join(args.experiment_dir, instance_name)\n",
    "            \n",
    "            model_dir = os.path.join(instance_dir, 'model')\n",
    "            metrics_dir = os.path.join(model_dir, 'metrics_results.npy')\n",
    "            metrics_dict = load_dict_npy(metrics_dir)[()]\n",
    "            del metrics_dict['pred_scores']\n",
    "            del metrics_dict['disc_scores']\n",
    "            \n",
    "            metrics_df = pd.DataFrame(metrics_dict, index=[instance_name])\n",
    "            metrics_list.append(metrics_df)\n",
    "            \n",
    "    metrics_summary = pd.concat(metrics_list)\n",
    "    return metrics_summary"
   ]
  },
  {
   "cell_type": "code",
   "execution_count": 4,
   "id": "c1bb8f8f-7ebc-4a26-99c3-3ddf17ddba29",
   "metadata": {},
   "outputs": [],
   "source": [
    "def summary_num_mask(home):\n",
    "    args = load_arguments(home)\n",
    "    factors = extract_factors(args.ts_size)\n",
    "    \n",
    "    metrics_list = []\n",
    "\n",
    "    hyper_names = ['mask_size', 'num_masks']\n",
    "    \n",
    "    mask_size = 1\n",
    "\n",
    "    for num_masks in range(1, int(args.ts_size // mask_size)):\n",
    "        # Find the right config for the instance\n",
    "        hyper_values = [mask_size, num_masks]\n",
    "        hyper_comb = dict(zip(hyper_names, hyper_values))\n",
    "        instance_name = ','.join(['%s=%.4g' % (name, value) if isinstance(value, float)\n",
    "                                  else '%s=%s' % (name, str(value).replace(' ', '_'))\n",
    "                                  for name, value in hyper_comb.items()])\n",
    "\n",
    "\n",
    "        instance_dir = os.path.join(args.experiment_dir, instance_name)\n",
    "        model_dir = os.path.join(instance_dir, 'model')\n",
    "        metrics_dir = os.path.join(model_dir, 'metrics_results.npy')\n",
    "        metrics_dict = load_dict_npy(metrics_dir)[()]\n",
    "        del metrics_dict['pred_scores']\n",
    "        del metrics_dict['disc_scores']\n",
    "\n",
    "        metrics_df = pd.DataFrame(metrics_dict, index=[instance_name])\n",
    "        metrics_list.append(metrics_df)\n",
    "            \n",
    "    metrics_summary = pd.concat(metrics_list)\n",
    "    return metrics_summary"
   ]
  },
  {
   "cell_type": "code",
   "execution_count": 5,
   "id": "3879a8f6-39b5-41a6-bc56-68b6e23e7e02",
   "metadata": {},
   "outputs": [],
   "source": [
    "def summary_mask_size(home):\n",
    "    args = load_arguments(home)\n",
    "    factors = extract_factors(args.ts_size)\n",
    "    \n",
    "    metrics_list = []\n",
    "\n",
    "    hyper_names = ['mask_size', 'num_masks']\n",
    "    num_masks = 1\n",
    "    \n",
    "    for mask_size in factors:\n",
    "        # Find the right config for the instance\n",
    "        hyper_values = [mask_size, num_masks]\n",
    "        hyper_comb = dict(zip(hyper_names, hyper_values))\n",
    "        instance_name = ','.join(['%s=%.4g' % (name, value) if isinstance(value, float)\n",
    "                                  else '%s=%s' % (name, str(value).replace(' ', '_'))\n",
    "                                  for name, value in hyper_comb.items()])\n",
    "\n",
    "\n",
    "        instance_dir = os.path.join(args.experiment_dir, instance_name)\n",
    "        model_dir = os.path.join(instance_dir, 'model')\n",
    "        metrics_dir = os.path.join(model_dir, 'metrics_results.npy')\n",
    "        metrics_dict = load_dict_npy(metrics_dir)[()]\n",
    "        del metrics_dict['pred_scores']\n",
    "        del metrics_dict['disc_scores']\n",
    "\n",
    "        metrics_df = pd.DataFrame(metrics_dict, index=[instance_name])\n",
    "        metrics_list.append(metrics_df)\n",
    "            \n",
    "    metrics_summary = pd.concat(metrics_list)\n",
    "    return metrics_summary"
   ]
  },
  {
   "cell_type": "markdown",
   "id": "ed49117a-4e69-43b4-8896-ef6a0f565298",
   "metadata": {},
   "source": [
    "# Stock"
   ]
  },
  {
   "cell_type": "markdown",
   "id": "d732af8e-efca-452c-86c3-4bbff15ca118",
   "metadata": {},
   "source": [
    "## Load Arguments"
   ]
  },
  {
   "cell_type": "code",
   "execution_count": 6,
   "id": "6f7e313b-8303-46dd-a14b-397a1ca7b9c3",
   "metadata": {},
   "outputs": [],
   "source": [
    "def load_arguments(home):\n",
    "    # Find the config for experiments\n",
    "    parser = argparse.ArgumentParser()\n",
    "\n",
    "    parser.add_argument('--config_dir', default='config.json')\n",
    "    args_dict = vars(parser.parse_args(args=[]))\n",
    "    \n",
    "    # Load the config.json\n",
    "    config_dir = args_dict['config_dir']\n",
    "\n",
    "    with open(config_dir, 'r') as f:\n",
    "        config_dict = json.load(fp=f)\n",
    "\n",
    "    total_dict = {**config_dict, **args_dict}\n",
    "\n",
    "    # Maintain dirs\n",
    "    storage_dir = os.path.join(home, 'storage')\n",
    "    experiment_dir = os.path.join(storage_dir, config_dict['experiment_name'])\n",
    "    total_dict['experiment_dir'] = experiment_dir\n",
    "\n",
    "\n",
    "    args = argparse.Namespace(**total_dict)\n",
    "\n",
    "    return args"
   ]
  },
  {
   "cell_type": "markdown",
   "id": "6bb7278c-be8c-45c9-a888-c6d327daf50b",
   "metadata": {},
   "source": [
    "## 1 mask of different sizes"
   ]
  },
  {
   "cell_type": "code",
   "execution_count": 7,
   "id": "77b9f458-6c65-46bb-9729-6bdec227adf6",
   "metadata": {},
   "outputs": [
    {
     "name": "stdout",
     "output_type": "stream",
     "text": [
      "                          pred_mean  pred_std  disc_mean  disc_std\n",
      "mask_size=1,num_masks=1    0.037010  0.000131   0.110437  0.116452\n",
      "mask_size=2,num_masks=1    0.037812  0.000141   0.055457  0.037789\n",
      "mask_size=3,num_masks=1    0.037264  0.000166   0.114870  0.106279\n",
      "mask_size=4,num_masks=1    0.040024  0.000248   0.145157  0.078061\n",
      "mask_size=6,num_masks=1    0.039060  0.000235   0.132196  0.100265\n",
      "mask_size=8,num_masks=1    0.039412  0.000474   0.102319  0.077281\n",
      "mask_size=12,num_masks=1   0.060575  0.001133   0.198568  0.019001\n"
     ]
    }
   ],
   "source": [
    "stock_mask_size = summary_mask_size(home)\n",
    "print(stock_mask_size)"
   ]
  },
  {
   "cell_type": "markdown",
   "id": "a255148e-f55e-4bcf-bbcf-41131923af4a",
   "metadata": {},
   "source": [
    "## several masks of size 1"
   ]
  },
  {
   "cell_type": "code",
   "execution_count": 8,
   "id": "becdbcb8-18c9-40b0-bed0-128689d1f62e",
   "metadata": {},
   "outputs": [
    {
     "name": "stdout",
     "output_type": "stream",
     "text": [
      "                          pred_mean  pred_std  disc_mean  disc_std\n",
      "mask_size=1,num_masks=1    0.037010  0.000131   0.110437  0.116452\n",
      "mask_size=1,num_masks=2    0.037449  0.000219   0.128718  0.124518\n",
      "mask_size=1,num_masks=3    0.037860  0.000249   0.064461  0.026741\n",
      "mask_size=1,num_masks=4    0.038692  0.000218   0.077285  0.050342\n",
      "mask_size=1,num_masks=5    0.039692  0.000314   0.163915  0.085648\n",
      "mask_size=1,num_masks=6    0.041617  0.000472   0.127558  0.053436\n",
      "mask_size=1,num_masks=7    0.042584  0.000345   0.180491  0.073171\n",
      "mask_size=1,num_masks=8    0.043500  0.000560   0.135880  0.035202\n",
      "mask_size=1,num_masks=9    0.045731  0.000491   0.167735  0.019849\n",
      "mask_size=1,num_masks=10   0.046860  0.001090   0.175784  0.067228\n",
      "mask_size=1,num_masks=11   0.049972  0.000639   0.170532  0.040340\n",
      "mask_size=1,num_masks=12   0.051676  0.000901   0.201910  0.016770\n",
      "mask_size=1,num_masks=13   0.060008  0.000741   0.228922  0.017916\n",
      "mask_size=1,num_masks=14   0.054770  0.000825   0.189359  0.026818\n",
      "mask_size=1,num_masks=15   0.060909  0.000959   0.242769  0.048269\n",
      "mask_size=1,num_masks=16   0.068032  0.000947   0.296794  0.017193\n",
      "mask_size=1,num_masks=17   0.068534  0.001186   0.268213  0.050064\n",
      "mask_size=1,num_masks=18   0.074174  0.001060   0.273806  0.022039\n",
      "mask_size=1,num_masks=19   0.083529  0.001307   0.311664  0.017660\n",
      "mask_size=1,num_masks=20   0.079422  0.001936   0.276330  0.023975\n",
      "mask_size=1,num_masks=21   0.083176  0.001841   0.260300  0.033009\n",
      "mask_size=1,num_masks=22   0.123771  0.002201   0.418349  0.015659\n",
      "mask_size=1,num_masks=23   0.150588  0.001870   0.366780  0.033819\n"
     ]
    }
   ],
   "source": [
    "stock_num_mask = summary_num_mask(home)\n",
    "print(stock_num_mask)"
   ]
  },
  {
   "cell_type": "markdown",
   "id": "d608245b-48c3-41d3-ac19-103f10ae888d",
   "metadata": {
    "tags": []
   },
   "source": [
    "## Summary for Stock"
   ]
  },
  {
   "cell_type": "code",
   "execution_count": 9,
   "id": "9269d47e-22f9-44ac-8e9c-66facd94b85a",
   "metadata": {
    "tags": []
   },
   "outputs": [
    {
     "name": "stdout",
     "output_type": "stream",
     "text": [
      "                          pred_mean  pred_std  disc_mean  disc_std\n",
      "mask_size=1,num_masks=1    0.037010  0.000131   0.110437  0.116452\n",
      "mask_size=1,num_masks=2    0.037449  0.000219   0.128718  0.124518\n",
      "mask_size=1,num_masks=3    0.037860  0.000249   0.064461  0.026741\n",
      "mask_size=1,num_masks=4    0.038692  0.000218   0.077285  0.050342\n",
      "mask_size=1,num_masks=5    0.039692  0.000314   0.163915  0.085648\n",
      "mask_size=1,num_masks=6    0.041617  0.000472   0.127558  0.053436\n",
      "mask_size=1,num_masks=7    0.042584  0.000345   0.180491  0.073171\n",
      "mask_size=1,num_masks=8    0.043500  0.000560   0.135880  0.035202\n",
      "mask_size=1,num_masks=9    0.045731  0.000491   0.167735  0.019849\n",
      "mask_size=1,num_masks=10   0.046860  0.001090   0.175784  0.067228\n",
      "mask_size=1,num_masks=11   0.049972  0.000639   0.170532  0.040340\n",
      "mask_size=1,num_masks=12   0.051676  0.000901   0.201910  0.016770\n",
      "mask_size=1,num_masks=13   0.060008  0.000741   0.228922  0.017916\n",
      "mask_size=1,num_masks=14   0.054770  0.000825   0.189359  0.026818\n",
      "mask_size=1,num_masks=15   0.060909  0.000959   0.242769  0.048269\n",
      "mask_size=1,num_masks=16   0.068032  0.000947   0.296794  0.017193\n",
      "mask_size=1,num_masks=17   0.068534  0.001186   0.268213  0.050064\n",
      "mask_size=1,num_masks=18   0.074174  0.001060   0.273806  0.022039\n",
      "mask_size=1,num_masks=19   0.083529  0.001307   0.311664  0.017660\n",
      "mask_size=1,num_masks=20   0.079422  0.001936   0.276330  0.023975\n",
      "mask_size=1,num_masks=21   0.083176  0.001841   0.260300  0.033009\n",
      "mask_size=1,num_masks=22   0.123771  0.002201   0.418349  0.015659\n",
      "mask_size=1,num_masks=23   0.150588  0.001870   0.366780  0.033819\n",
      "mask_size=2,num_masks=1    0.037812  0.000141   0.055457  0.037789\n",
      "mask_size=2,num_masks=2    0.045435  0.000384   0.258117  0.012689\n",
      "mask_size=2,num_masks=3    0.039271  0.000269   0.169031  0.116779\n",
      "mask_size=2,num_masks=4    0.044324  0.000630   0.160641  0.076256\n",
      "mask_size=2,num_masks=5    0.053909  0.000982   0.193588  0.029675\n",
      "mask_size=2,num_masks=6    0.056802  0.001007   0.226603  0.018104\n",
      "mask_size=2,num_masks=7    0.060923  0.000615   0.185607  0.019513\n",
      "mask_size=2,num_masks=8    0.072628  0.001834   0.269509  0.031444\n",
      "mask_size=2,num_masks=9    0.080891  0.001638   0.249795  0.028229\n",
      "mask_size=2,num_masks=10   0.107331  0.002083   0.308527  0.023943\n",
      "mask_size=2,num_masks=11   0.110294  0.002311   0.257026  0.016675\n",
      "mask_size=3,num_masks=1    0.037264  0.000166   0.114870  0.106279\n",
      "mask_size=3,num_masks=2    0.041169  0.000351   0.108527  0.094223\n",
      "mask_size=3,num_masks=3    0.049197  0.000882   0.228035  0.033285\n",
      "mask_size=3,num_masks=4    0.056405  0.001194   0.244134  0.040256\n",
      "mask_size=3,num_masks=5    0.070090  0.001016   0.222033  0.049137\n",
      "mask_size=3,num_masks=6    0.082449  0.001198   0.275512  0.027305\n",
      "mask_size=3,num_masks=7    0.127990  0.002164   0.312824  0.028944\n",
      "mask_size=4,num_masks=1    0.040024  0.000248   0.145157  0.078061\n",
      "mask_size=4,num_masks=2    0.045154  0.000462   0.185402  0.014415\n",
      "mask_size=4,num_masks=3    0.054359  0.000626   0.148090  0.018421\n",
      "mask_size=4,num_masks=4    0.069564  0.001396   0.229468  0.026925\n",
      "mask_size=4,num_masks=5    0.094395  0.001773   0.290928  0.030443\n",
      "mask_size=6,num_masks=1    0.039060  0.000235   0.132196  0.100265\n",
      "mask_size=6,num_masks=2    0.059501  0.001177   0.190314  0.025800\n",
      "mask_size=6,num_masks=3    0.096889  0.001733   0.290109  0.051802\n",
      "mask_size=8,num_masks=1    0.039412  0.000474   0.102319  0.077281\n",
      "mask_size=8,num_masks=2    0.066902  0.001474   0.250887  0.071002\n",
      "mask_size=12,num_masks=1   0.060575  0.001133   0.198568  0.019001\n"
     ]
    }
   ],
   "source": [
    "stock_summary = find_results('AE0_EM0_RE50000')\n",
    "print(stock_summary)"
   ]
  },
  {
   "cell_type": "markdown",
   "id": "7de69650-f732-437a-a970-65142092f5a0",
   "metadata": {},
   "source": [
    "# Sine"
   ]
  },
  {
   "cell_type": "markdown",
   "id": "4a2cdc64-8bcf-4ef2-8f6f-02f0c09854af",
   "metadata": {},
   "source": [
    "### Load Arguments"
   ]
  },
  {
   "cell_type": "code",
   "execution_count": 10,
   "id": "13a42c57-2cdb-4864-8d74-82b18dbcb717",
   "metadata": {},
   "outputs": [],
   "source": [
    "def load_arguments(home):\n",
    "    # Find the config for experiments\n",
    "    parser = argparse.ArgumentParser()\n",
    "\n",
    "    parser.add_argument('--config_dir', default='sine_config.json')\n",
    "    args_dict = vars(parser.parse_args(args=[]))\n",
    "    \n",
    "    # Load the config.json\n",
    "    config_dir = args_dict['config_dir']\n",
    "\n",
    "    with open(config_dir, 'r') as f:\n",
    "        config_dict = json.load(fp=f)\n",
    "\n",
    "    total_dict = {**config_dict, **args_dict}\n",
    "\n",
    "    # Maintain dirs\n",
    "    storage_dir = os.path.join(home, 'storage')\n",
    "    experiment_dir = os.path.join(storage_dir, config_dict['experiment_name'])\n",
    "    total_dict['experiment_dir'] = experiment_dir\n",
    "\n",
    "\n",
    "    args = argparse.Namespace(**total_dict)\n",
    "\n",
    "    return args"
   ]
  },
  {
   "cell_type": "markdown",
   "id": "d8fa47cc-0657-416b-8bdd-95be475bbfd4",
   "metadata": {},
   "source": [
    "### 1 mask of different sizes"
   ]
  },
  {
   "cell_type": "code",
   "execution_count": 11,
   "id": "3d7112b0-6a2d-40b1-9957-9d26e2db41c7",
   "metadata": {},
   "outputs": [
    {
     "name": "stdout",
     "output_type": "stream",
     "text": [
      "                          pred_mean  pred_std  disc_mean  disc_std\n",
      "mask_size=1,num_masks=1    0.102111  0.000773   0.273150  0.181229\n",
      "mask_size=2,num_masks=1    0.103612  0.000542   0.402000  0.163587\n",
      "mask_size=3,num_masks=1    0.105498  0.001218   0.323100  0.176853\n",
      "mask_size=4,num_masks=1    0.101471  0.000693   0.113475  0.012641\n",
      "mask_size=6,num_masks=1    0.136297  0.065392   0.248800  0.084467\n",
      "mask_size=8,num_masks=1    0.162098  0.001763   0.376700  0.024429\n",
      "mask_size=12,num_masks=1   0.114557  0.004032   0.370875  0.026211\n"
     ]
    }
   ],
   "source": [
    "sine_mask_size = summary_mask_size(home)\n",
    "print(sine_mask_size)"
   ]
  },
  {
   "cell_type": "markdown",
   "id": "74de20a2-054e-437e-9d8b-f834a3a8f496",
   "metadata": {},
   "source": [
    "### several masks of size 1"
   ]
  },
  {
   "cell_type": "code",
   "execution_count": 12,
   "id": "9eb34a19-888c-4b4b-b325-1f624fab57da",
   "metadata": {},
   "outputs": [
    {
     "name": "stdout",
     "output_type": "stream",
     "text": [
      "                          pred_mean  pred_std  disc_mean  disc_std\n",
      "mask_size=1,num_masks=1    0.102111  0.000773   0.273150  0.181229\n",
      "mask_size=1,num_masks=2    0.103853  0.001202   0.364625  0.187255\n",
      "mask_size=1,num_masks=3    0.108489  0.002033   0.402650  0.172492\n",
      "mask_size=1,num_masks=4    0.125481  0.026787   0.408800  0.160596\n",
      "mask_size=1,num_masks=5    0.120690  0.011490   0.402550  0.128909\n",
      "mask_size=1,num_masks=6    0.141998  0.021988   0.452200  0.058036\n",
      "mask_size=1,num_masks=7    0.143282  0.024395   0.403225  0.097286\n",
      "mask_size=1,num_masks=8    0.141339  0.025425   0.469525  0.043682\n",
      "mask_size=1,num_masks=9    0.141593  0.030420   0.461425  0.039935\n",
      "mask_size=1,num_masks=10   0.128350  0.007239   0.489750  0.015517\n",
      "mask_size=1,num_masks=11   0.120902  0.017048   0.479800  0.030173\n",
      "mask_size=1,num_masks=12   0.130095  0.005233   0.485075  0.013444\n",
      "mask_size=1,num_masks=13   0.129454  0.001641   0.494325  0.006016\n",
      "mask_size=1,num_masks=14   0.119676  0.001610   0.489625  0.009129\n",
      "mask_size=1,num_masks=15   0.119031  0.000703   0.464150  0.030883\n",
      "mask_size=1,num_masks=16   0.122080  0.002530   0.472850  0.035636\n",
      "mask_size=1,num_masks=17   0.115005  0.000779   0.409375  0.029047\n",
      "mask_size=1,num_masks=18   0.110826  0.000774   0.446025  0.039793\n",
      "mask_size=1,num_masks=19   0.107586  0.000390   0.402575  0.073884\n",
      "mask_size=1,num_masks=20   0.112869  0.013346   0.322475  0.094419\n",
      "mask_size=1,num_masks=21   0.116344  0.014419   0.369475  0.049660\n",
      "mask_size=1,num_masks=22   0.106240  0.000992   0.388050  0.088368\n",
      "mask_size=1,num_masks=23   0.138103  0.043557   0.230275  0.142925\n"
     ]
    }
   ],
   "source": [
    "sine_num_mask = summary_num_mask(home)\n",
    "print(sine_num_mask)"
   ]
  },
  {
   "cell_type": "markdown",
   "id": "d3df2aa4-69c3-47f2-8592-991ba17c88a6",
   "metadata": {},
   "source": [
    "### Summary for Sine"
   ]
  },
  {
   "cell_type": "code",
   "execution_count": 13,
   "id": "7808c432-bb92-490b-8f8e-e9fe1fd278a0",
   "metadata": {},
   "outputs": [
    {
     "name": "stdout",
     "output_type": "stream",
     "text": [
      "                          pred_mean  pred_std  disc_mean  disc_std\n",
      "mask_size=1,num_masks=1    0.102111  0.000773   0.273150  0.181229\n",
      "mask_size=1,num_masks=2    0.103853  0.001202   0.364625  0.187255\n",
      "mask_size=1,num_masks=3    0.108489  0.002033   0.402650  0.172492\n",
      "mask_size=1,num_masks=4    0.125481  0.026787   0.408800  0.160596\n",
      "mask_size=1,num_masks=5    0.120690  0.011490   0.402550  0.128909\n",
      "mask_size=1,num_masks=6    0.141998  0.021988   0.452200  0.058036\n",
      "mask_size=1,num_masks=7    0.143282  0.024395   0.403225  0.097286\n",
      "mask_size=1,num_masks=8    0.141339  0.025425   0.469525  0.043682\n",
      "mask_size=1,num_masks=9    0.141593  0.030420   0.461425  0.039935\n",
      "mask_size=1,num_masks=10   0.128350  0.007239   0.489750  0.015517\n",
      "mask_size=1,num_masks=11   0.120902  0.017048   0.479800  0.030173\n",
      "mask_size=1,num_masks=12   0.130095  0.005233   0.485075  0.013444\n",
      "mask_size=1,num_masks=13   0.129454  0.001641   0.494325  0.006016\n",
      "mask_size=1,num_masks=14   0.119676  0.001610   0.489625  0.009129\n",
      "mask_size=1,num_masks=15   0.119031  0.000703   0.464150  0.030883\n",
      "mask_size=1,num_masks=16   0.122080  0.002530   0.472850  0.035636\n",
      "mask_size=1,num_masks=17   0.115005  0.000779   0.409375  0.029047\n",
      "mask_size=1,num_masks=18   0.110826  0.000774   0.446025  0.039793\n",
      "mask_size=1,num_masks=19   0.107586  0.000390   0.402575  0.073884\n",
      "mask_size=1,num_masks=20   0.112869  0.013346   0.322475  0.094419\n",
      "mask_size=1,num_masks=21   0.116344  0.014419   0.369475  0.049660\n",
      "mask_size=1,num_masks=22   0.106240  0.000992   0.388050  0.088368\n",
      "mask_size=1,num_masks=23   0.138103  0.043557   0.230275  0.142925\n",
      "mask_size=2,num_masks=1    0.103612  0.000542   0.402000  0.163587\n",
      "mask_size=2,num_masks=2    0.126049  0.037041   0.457325  0.117001\n",
      "mask_size=2,num_masks=3    0.129626  0.022816   0.444900  0.100283\n",
      "mask_size=2,num_masks=4    0.131790  0.015898   0.439075  0.038685\n",
      "mask_size=2,num_masks=5    0.120113  0.007223   0.465500  0.042373\n",
      "mask_size=2,num_masks=6    0.276811  0.121909   0.447850  0.028628\n",
      "mask_size=2,num_masks=7    0.106294  0.001098   0.361050  0.055259\n",
      "mask_size=2,num_masks=8    0.108914  0.001031   0.465475  0.036322\n",
      "mask_size=2,num_masks=9    0.124923  0.002492   0.422675  0.056011\n",
      "mask_size=2,num_masks=10   0.106400  0.004887   0.403350  0.138922\n",
      "mask_size=2,num_masks=11   0.155417  0.050336   0.321375  0.083652\n",
      "mask_size=3,num_masks=1    0.105498  0.001218   0.323100  0.176853\n",
      "mask_size=3,num_masks=2    0.113484  0.013691   0.339350  0.099827\n",
      "mask_size=3,num_masks=3    0.152192  0.038408   0.381100  0.033777\n",
      "mask_size=3,num_masks=4    0.103859  0.000949   0.326600  0.063276\n",
      "mask_size=3,num_masks=5    0.105024  0.000914   0.405025  0.087688\n",
      "mask_size=3,num_masks=6    0.138636  0.013288   0.468225  0.011092\n",
      "mask_size=3,num_masks=7    0.116149  0.011038   0.261925  0.131468\n",
      "mask_size=4,num_masks=1    0.101471  0.000693   0.113475  0.012641\n",
      "mask_size=4,num_masks=2    0.103884  0.001137   0.127275  0.093146\n",
      "mask_size=4,num_masks=3    0.106377  0.000902   0.366550  0.028157\n",
      "mask_size=4,num_masks=4    0.107696  0.006621   0.297575  0.086801\n",
      "mask_size=4,num_masks=5    0.103705  0.001238   0.326825  0.135066\n",
      "mask_size=6,num_masks=1    0.136297  0.065392   0.248800  0.084467\n",
      "mask_size=6,num_masks=2    0.106949  0.000831   0.284100  0.035984\n",
      "mask_size=6,num_masks=3    0.110230  0.004310   0.324900  0.126807\n",
      "mask_size=8,num_masks=1    0.162098  0.001763   0.376700  0.024429\n",
      "mask_size=8,num_masks=2    0.109522  0.002440   0.361600  0.033102\n",
      "mask_size=12,num_masks=1   0.114557  0.004032   0.370875  0.026211\n"
     ]
    }
   ],
   "source": [
    "sine_summary = find_results('AE0_EM0_RE50000_sine')\n",
    "print(sine_summary)"
   ]
  },
  {
   "cell_type": "markdown",
   "id": "4171cb56-cc42-48c3-8997-e75efa53a308",
   "metadata": {},
   "source": [
    "# Energy"
   ]
  },
  {
   "cell_type": "markdown",
   "id": "b8285cc2-b633-4914-b985-5d88d2bac784",
   "metadata": {},
   "source": [
    "### Load Arguments"
   ]
  },
  {
   "cell_type": "code",
   "execution_count": 14,
   "id": "59ff1220-8f01-42b0-a604-71971f0c5064",
   "metadata": {},
   "outputs": [],
   "source": [
    "def load_arguments(home):\n",
    "    # Find the config for experiments\n",
    "    parser = argparse.ArgumentParser()\n",
    "\n",
    "    parser.add_argument('--config_dir', default='energy_config.json')\n",
    "    args_dict = vars(parser.parse_args(args=[]))\n",
    "    \n",
    "    # Load the config.json\n",
    "    config_dir = args_dict['config_dir']\n",
    "\n",
    "    with open(config_dir, 'r') as f:\n",
    "        config_dict = json.load(fp=f)\n",
    "\n",
    "    total_dict = {**config_dict, **args_dict}\n",
    "\n",
    "    # Maintain dirs\n",
    "    storage_dir = os.path.join(home, 'storage')\n",
    "    experiment_dir = os.path.join(storage_dir, config_dict['experiment_name'])\n",
    "    total_dict['experiment_dir'] = experiment_dir\n",
    "\n",
    "\n",
    "    args = argparse.Namespace(**total_dict)\n",
    "\n",
    "    return args"
   ]
  },
  {
   "cell_type": "markdown",
   "id": "fa07e682-1e9d-461c-8c04-df8b8591ca0b",
   "metadata": {},
   "source": [
    "### 1 mask of different sizes"
   ]
  },
  {
   "cell_type": "code",
   "execution_count": 15,
   "id": "74f69a0d-3290-4c4d-ab93-e0ea000397e9",
   "metadata": {},
   "outputs": [
    {
     "name": "stdout",
     "output_type": "stream",
     "text": [
      "                          pred_mean  pred_std  disc_mean  disc_std\n",
      "mask_size=1,num_masks=1    0.305518  0.010932   0.479292  0.019306\n",
      "mask_size=2,num_masks=1    0.311318  0.001635   0.440883  0.021442\n",
      "mask_size=3,num_masks=1    0.296835  0.001658   0.428849  0.014600\n",
      "mask_size=4,num_masks=1    0.285874  0.002197   0.439120  0.011269\n",
      "mask_size=6,num_masks=1    0.270136  0.002233   0.402080  0.119129\n",
      "mask_size=8,num_masks=1    0.278986  0.003768   0.376997  0.142961\n",
      "mask_size=12,num_masks=1   0.256548  0.000569   0.488372  0.014252\n"
     ]
    }
   ],
   "source": [
    "energy_mask_size = summary_mask_size(home)\n",
    "print(energy_mask_size)"
   ]
  },
  {
   "cell_type": "markdown",
   "id": "25511e01-b643-46e7-809b-096e6994a202",
   "metadata": {},
   "source": [
    "### several masks of size 1"
   ]
  },
  {
   "cell_type": "code",
   "execution_count": 16,
   "id": "0140b05f-a432-4cb5-bf2e-dc09c51c6fd9",
   "metadata": {},
   "outputs": [
    {
     "name": "stdout",
     "output_type": "stream",
     "text": [
      "                          pred_mean  pred_std  disc_mean  disc_std\n",
      "mask_size=1,num_masks=1    0.305518  0.010932   0.479292  0.019306\n",
      "mask_size=1,num_masks=2    0.276237  0.006469   0.485049  0.010093\n",
      "mask_size=1,num_masks=3    0.281197  0.004245   0.494674  0.002273\n",
      "mask_size=1,num_masks=4    0.302781  0.009273   0.495295  0.002193\n",
      "mask_size=1,num_masks=5    0.316248  0.012123   0.497362  0.002736\n",
      "mask_size=1,num_masks=6    0.327704  0.013487   0.498085  0.002122\n",
      "mask_size=1,num_masks=7    0.329568  0.014006   0.499341  0.000467\n",
      "mask_size=1,num_masks=8    0.347378  0.013903   0.498935  0.001107\n",
      "mask_size=1,num_masks=9    0.346808  0.013220   0.499696  0.000261\n",
      "mask_size=1,num_masks=10   0.349471  0.005714   0.499658  0.000227\n",
      "mask_size=1,num_masks=11   0.349237  0.002552   0.499835  0.000413\n",
      "mask_size=1,num_masks=12   0.364403  0.002055   0.499391  0.000583\n",
      "mask_size=1,num_masks=13   0.364816  0.001406   0.495891  0.011536\n",
      "mask_size=1,num_masks=14   0.362502  0.002799   0.499772  0.000487\n",
      "mask_size=1,num_masks=15   0.366674  0.001830   0.499366  0.001216\n",
      "mask_size=1,num_masks=16   0.365429  0.001416   0.499645  0.000408\n",
      "mask_size=1,num_masks=17   0.367440  0.001106   0.499024  0.002069\n",
      "mask_size=1,num_masks=18   0.358168  0.002255   0.499822  0.000228\n",
      "mask_size=1,num_masks=19   0.334868  0.002492   0.499543  0.000834\n",
      "mask_size=1,num_masks=20   0.322398  0.001711   0.499810  0.000190\n",
      "mask_size=1,num_masks=21   0.310435  0.001696   0.499848  0.000416\n",
      "mask_size=1,num_masks=22   0.299452  0.003624   0.499911  0.000081\n",
      "mask_size=1,num_masks=23   0.307476  0.002883   0.499784  0.000278\n"
     ]
    }
   ],
   "source": [
    "energy_num_mask = summary_num_mask(home)\n",
    "print(energy_num_mask)"
   ]
  },
  {
   "cell_type": "markdown",
   "id": "3d94ba89-0c4d-46e3-9474-a75c7177ef61",
   "metadata": {},
   "source": [
    "### Summary for Energy"
   ]
  },
  {
   "cell_type": "code",
   "execution_count": 17,
   "id": "eb5bf2eb-1818-476c-b964-a8260284fd8e",
   "metadata": {},
   "outputs": [
    {
     "name": "stdout",
     "output_type": "stream",
     "text": [
      "                          pred_mean  pred_std  disc_mean  disc_std\n",
      "mask_size=1,num_masks=1    0.305518  0.010932   0.479292  0.019306\n",
      "mask_size=1,num_masks=2    0.276237  0.006469   0.485049  0.010093\n",
      "mask_size=1,num_masks=3    0.281197  0.004245   0.494674  0.002273\n",
      "mask_size=1,num_masks=4    0.302781  0.009273   0.495295  0.002193\n",
      "mask_size=1,num_masks=5    0.316248  0.012123   0.497362  0.002736\n",
      "mask_size=1,num_masks=6    0.327704  0.013487   0.498085  0.002122\n",
      "mask_size=1,num_masks=7    0.329568  0.014006   0.499341  0.000467\n",
      "mask_size=1,num_masks=8    0.347378  0.013903   0.498935  0.001107\n",
      "mask_size=1,num_masks=9    0.346808  0.013220   0.499696  0.000261\n",
      "mask_size=1,num_masks=10   0.349471  0.005714   0.499658  0.000227\n",
      "mask_size=1,num_masks=11   0.349237  0.002552   0.499835  0.000413\n",
      "mask_size=1,num_masks=12   0.364403  0.002055   0.499391  0.000583\n",
      "mask_size=1,num_masks=13   0.364816  0.001406   0.495891  0.011536\n",
      "mask_size=1,num_masks=14   0.362502  0.002799   0.499772  0.000487\n",
      "mask_size=1,num_masks=15   0.366674  0.001830   0.499366  0.001216\n",
      "mask_size=1,num_masks=16   0.365429  0.001416   0.499645  0.000408\n",
      "mask_size=1,num_masks=17   0.367440  0.001106   0.499024  0.002069\n",
      "mask_size=1,num_masks=18   0.358168  0.002255   0.499822  0.000228\n",
      "mask_size=1,num_masks=19   0.334868  0.002492   0.499543  0.000834\n",
      "mask_size=1,num_masks=20   0.322398  0.001711   0.499810  0.000190\n",
      "mask_size=1,num_masks=21   0.310435  0.001696   0.499848  0.000416\n",
      "mask_size=1,num_masks=22   0.299452  0.003624   0.499911  0.000081\n",
      "mask_size=1,num_masks=23   0.307476  0.002883   0.499784  0.000278\n",
      "mask_size=2,num_masks=1    0.311318  0.001635   0.440883  0.021442\n",
      "mask_size=2,num_masks=2    0.277068  0.005821   0.461248  0.010959\n",
      "mask_size=2,num_masks=3    0.278539  0.001435   0.485366  0.005439\n",
      "mask_size=2,num_masks=4    0.301716  0.012595   0.492645  0.008387\n",
      "mask_size=2,num_masks=5    0.305018  0.017381   0.488955  0.016849\n",
      "mask_size=2,num_masks=6    0.304676  0.013347   0.496855  0.003619\n",
      "mask_size=2,num_masks=7    0.304308  0.011156   0.498618  0.000978\n",
      "mask_size=2,num_masks=8    0.310475  0.009174   0.498922  0.000635\n",
      "mask_size=2,num_masks=9    0.321233  0.005956   0.499505  0.000539\n",
      "mask_size=2,num_masks=10   0.299167  0.002105   0.499911  0.000161\n",
      "mask_size=2,num_masks=11   0.302802  0.001791   0.499937  0.000063\n",
      "mask_size=3,num_masks=1    0.296835  0.001658   0.428849  0.014600\n",
      "mask_size=3,num_masks=2    0.272245  0.001863   0.468349  0.012069\n",
      "mask_size=3,num_masks=3    0.289060  0.004806   0.487091  0.007960\n",
      "mask_size=3,num_masks=4    0.303266  0.012912   0.489982  0.011398\n",
      "mask_size=3,num_masks=5    0.302391  0.010712   0.495942  0.003575\n",
      "mask_size=3,num_masks=6    0.301165  0.005700   0.499582  0.000511\n",
      "mask_size=3,num_masks=7    0.271573  0.003575   0.499683  0.000355\n",
      "mask_size=4,num_masks=1    0.285874  0.002197   0.439120  0.011269\n",
      "mask_size=4,num_masks=2    0.280389  0.002651   0.472990  0.007448\n",
      "mask_size=4,num_masks=3    0.306153  0.003777   0.492848  0.002198\n",
      "mask_size=4,num_masks=4    0.306660  0.011968   0.498529  0.000992\n",
      "mask_size=4,num_masks=5    0.279184  0.005663   0.499226  0.001183\n",
      "mask_size=6,num_masks=1    0.270136  0.002233   0.402080  0.119129\n",
      "mask_size=6,num_masks=2    0.284238  0.002155   0.497210  0.001159\n",
      "mask_size=6,num_masks=3    0.300582  0.006853   0.499696  0.000517\n",
      "mask_size=8,num_masks=1    0.278986  0.003768   0.376997  0.142961\n",
      "mask_size=8,num_masks=2    0.288330  0.004229   0.498833  0.000739\n",
      "mask_size=12,num_masks=1   0.256548  0.000569   0.488372  0.014252\n"
     ]
    }
   ],
   "source": [
    "sine_summary = find_results('AE0_EM0_RE50000_sine')\n",
    "print(sine_summary)"
   ]
  }
 ],
 "metadata": {
  "kernelspec": {
   "display_name": "Python 3",
   "language": "python",
   "name": "python3"
  },
  "language_info": {
   "codemirror_mode": {
    "name": "ipython",
    "version": 3
   },
   "file_extension": ".py",
   "mimetype": "text/x-python",
   "name": "python",
   "nbconvert_exporter": "python",
   "pygments_lexer": "ipython3",
   "version": "3.6.13"
  }
 },
 "nbformat": 4,
 "nbformat_minor": 5
}
