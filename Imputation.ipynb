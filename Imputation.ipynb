{
 "cells": [
  {
   "cell_type": "markdown",
   "id": "5f766871-633b-466b-80e4-61577c3529f2",
   "metadata": {},
   "source": [
    "# Imputation"
   ]
  },
  {
   "cell_type": "markdown",
   "id": "f70c497d-89cb-4419-9fba-efa24f49bd61",
   "metadata": {},
   "source": [
    "This ipynb compares ExtraMAE with benchmarks in imputation. **Full model files and supporting documents for running this note is available upon request.** "
   ]
  },
  {
   "cell_type": "code",
   "execution_count": 1,
   "id": "6ab712dc-1560-48cb-b368-663453ad5b03",
   "metadata": {},
   "outputs": [],
   "source": [
    "import os\n",
    "import json\n",
    "import argparse\n",
    "import numpy as np\n",
    "import pandas as pd\n",
    "from modules.utils import extract_factors, load_dict_npy, save_under_impute, load_under_impute, mse_loss\n",
    "from sklearn.metrics import mean_absolute_error"
   ]
  },
  {
   "cell_type": "markdown",
   "id": "7889045e-69cb-4dcb-bc7a-429529a5713c",
   "metadata": {},
   "source": [
    "# Stock"
   ]
  },
  {
   "cell_type": "code",
   "execution_count": 2,
   "id": "cfd81ce8-5e24-4341-9fd0-6a2d098cb270",
   "metadata": {},
   "outputs": [],
   "source": [
    "def load_arguments(config_name):\n",
    "    home = os.getcwd()\n",
    "    \n",
    "    # Load the config.json\n",
    "    config_dir = os.path.join(home, config_name)\n",
    "\n",
    "    with open(config_dir, 'r') as f:\n",
    "        config_dict = json.load(fp=f)\n",
    "\n",
    "    # Maintain dirs\n",
    "    storage_dir = os.path.join(home, 'storage')\n",
    "    experiment_dir = os.path.join(storage_dir, config_dict['experiment_name'])\n",
    "    config_dict['experiment_dir'] = experiment_dir\n",
    "\n",
    "\n",
    "    args = argparse.Namespace(**config_dict)\n",
    "\n",
    "    return args"
   ]
  },
  {
   "cell_type": "code",
   "execution_count": 3,
   "id": "bc807ead-2894-48c5-9c47-2f3e1788c150",
   "metadata": {},
   "outputs": [],
   "source": [
    "def summary_by_metrics(experiment_name):\n",
    "    home = os.getcwd()\n",
    "    args = load_arguments('stock_config.json')\n",
    "    factors = extract_factors(args.ts_size)\n",
    "    metrics_list = []\n",
    "\n",
    "    hyper_names = ['mask_size', 'num_masks']\n",
    "    mse_list = list()\n",
    "    mae_list = list()\n",
    "    \n",
    "    for mask_size in factors:\n",
    "        for num_masks in range(1, 2):\n",
    "            # Find the right config for the instance\n",
    "            hyper_values = [mask_size, num_masks]\n",
    "            hyper_comb = dict(zip(hyper_names, hyper_values))\n",
    "            instance_name = ','.join(['%s=%.4g' % (name, value) if isinstance(value, float)\n",
    "                                      else '%s=%s' % (name, str(value).replace(' ', '_'))\n",
    "                                      for name, value in hyper_comb.items()])\n",
    "            \n",
    "            storage_dir = os.path.join(home, 'storage')\n",
    "            experiment_dir = os.path.join(storage_dir, experiment_name)\n",
    "            instance_dir = os.path.join(args.experiment_dir, instance_name)\n",
    "            impute_dir = os.path.join(instance_dir, 'impute')\n",
    "            args.impute_dir = impute_dir\n",
    "            \n",
    "            data_mean_impute = load_under_impute(args, 'mean_impute.npy')\n",
    "            data_median_impute = load_under_impute(args, 'median_impute.npy')\n",
    "            data_knn_impute = load_under_impute(args, 'knn_impute.npy')\n",
    "            data_soft_impute = load_under_impute(args, 'soft_impute.npy')\n",
    "            data_mai_impute = load_under_impute(args, 'mai_impute.npy')\n",
    "            data_brits_impute = load_under_impute(args, 'brits_impute.npy')\n",
    "            \n",
    "            data_original = load_under_impute(args, 'ori_impute.npy')\n",
    "            masks = load_under_impute(args, 'masks.npy')\n",
    "\n",
    "            mse_mean_impute = mse_loss(data_mean_impute, data_original, masks)\n",
    "            mse_median_impute = mse_loss(data_median_impute, data_original, masks)\n",
    "            mse_knn_impute = mse_loss(data_knn_impute, data_original, masks)\n",
    "            mse_soft_impute = mse_loss(data_soft_impute, data_original, masks)\n",
    "            mse_mai_impute = mse_loss(data_mai_impute, data_original, masks)\n",
    "            mse_brits_impute = mse_loss(data_brits_impute, data_original, masks)\n",
    "\n",
    "            mae_mean_impute = mean_absolute_error(data_mean_impute[masks], data_original[masks])\n",
    "            mae_median_impute = mean_absolute_error(data_median_impute[masks], data_original[masks])\n",
    "            mae_knn_impute = mean_absolute_error(data_knn_impute[masks], data_original[masks])\n",
    "            mae_soft_impute = mean_absolute_error(data_soft_impute[masks], data_original[masks])\n",
    "            mae_mai_impute = mean_absolute_error(data_mai_impute[masks], data_original[masks])\n",
    "            mae_brits_impute = mean_absolute_error(data_brits_impute[masks], data_original[masks])\n",
    "            \n",
    "            mse = [mse_mean_impute, mse_median_impute, mse_soft_impute, mse_knn_impute, mse_brits_impute, mse_mai_impute]\n",
    "            mae = [mae_mean_impute, mae_median_impute, mae_soft_impute, mae_knn_impute, mae_brits_impute, mae_mai_impute]\n",
    "            \n",
    "            metrics_dict = {\"mse\": mse, \n",
    "                            \"mae\": mae}\n",
    "            metrics_df = pd.DataFrame(metrics_dict, index=['mean', 'median', 'soft', 'knn', 'brits', 'mai'])\n",
    "            save_under_impute(args, 'impute_metrics.npy', metrics_df)\n",
    "            instance_name_short = f's{mask_size}n{num_masks}'\n",
    "            # print(f'{instance_name_short} results:\\n{metrics_df}\\n')\n",
    "            \n",
    "            metrics_np = load_under_impute(args, 'impute_metrics.npy')\n",
    "            temp_mse = metrics_np[:, 0].reshape(1, 6)\n",
    "            temp_mae = metrics_np[:, 1].reshape(1, 6)\n",
    "            mse_df = pd.DataFrame(temp_mse, columns=['mean', 'median', 'soft', 'knn', 'brits', 'mai'], index=[instance_name_short])\n",
    "            mae_df = pd.DataFrame(temp_mae, columns=['mean', 'median', 'soft', 'knn', 'brits', 'mai'], index=[instance_name_short])\n",
    "            mse_list.append(mse_df)\n",
    "            mae_list.append(mae_df)\n",
    "            \n",
    "    mse_results = pd.concat(mse_list)\n",
    "    mae_results = pd.concat(mae_list)\n",
    "    return mse_results, mae_results\n",
    "            "
   ]
  },
  {
   "cell_type": "code",
   "execution_count": 4,
   "id": "c26ab3ce-82f0-47bf-80cc-89673b478529",
   "metadata": {
    "tags": []
   },
   "outputs": [],
   "source": [
    "mse_results, mae_results = summary_by_metrics('AE_0_EM_0_RE50000')"
   ]
  },
  {
   "cell_type": "code",
   "execution_count": 5,
   "id": "46b6cc45-2b01-4152-9ecc-895f7ff56482",
   "metadata": {
    "tags": []
   },
   "outputs": [
    {
     "name": "stdout",
     "output_type": "stream",
     "text": [
      "        mse_mean   mse_std\n",
      "mean    0.053171  0.000157\n",
      "median  0.065231  0.000200\n",
      "soft    0.021450  0.054681\n",
      "knn     0.021441  0.054685\n",
      "brits   0.021618  0.003936\n",
      "mai     0.000785  0.000185\n"
     ]
    }
   ],
   "source": [
    "mse_mean = mse_results.mean()\n",
    "mse_std = mse_results.std()\n",
    "mse_summary = pd.concat([mse_mean, mse_std], axis=1)\n",
    "mse_summary.columns = ['mse_mean', 'mse_std']\n",
    "print(mse_summary)"
   ]
  },
  {
   "cell_type": "code",
   "execution_count": 6,
   "id": "ce9ea744-3558-4888-9fb6-9a32cb59fe63",
   "metadata": {
    "tags": []
   },
   "outputs": [
    {
     "name": "stdout",
     "output_type": "stream",
     "text": [
      "        mae_mean   mae_std\n",
      "mean    0.184434  0.000265\n",
      "median  0.168861  0.000232\n",
      "soft    0.053318  0.104599\n",
      "knn     0.050061  0.106058\n",
      "brits   0.080178  0.015581\n",
      "mai     0.011505  0.003260\n"
     ]
    }
   ],
   "source": [
    "mae_mean = mae_results.mean()\n",
    "mae_std = mae_results.std()\n",
    "mae_summary = pd.concat([mae_mean, mae_std], axis=1)\n",
    "mae_summary.columns = ['mae_mean', 'mae_std']\n",
    "print(mae_summary)"
   ]
  },
  {
   "cell_type": "markdown",
   "id": "15f1c0ff-174e-44aa-a037-f3a9d6bcd327",
   "metadata": {},
   "source": [
    "# Sine"
   ]
  },
  {
   "cell_type": "code",
   "execution_count": 7,
   "id": "5ff606d9-8be1-4510-a2da-8cc41ac8a871",
   "metadata": {},
   "outputs": [],
   "source": [
    "def load_arguments(config_name):\n",
    "    home = os.getcwd()\n",
    "    \n",
    "    # Load the config.json\n",
    "    config_dir = os.path.join(home, config_name)\n",
    "\n",
    "    with open(config_dir, 'r') as f:\n",
    "        config_dict = json.load(fp=f)\n",
    "\n",
    "    # Maintain dirs\n",
    "    storage_dir = os.path.join(home, 'storage')\n",
    "    experiment_dir = os.path.join(storage_dir, config_dict['experiment_name'])\n",
    "    config_dict['experiment_dir'] = experiment_dir\n",
    "\n",
    "\n",
    "    args = argparse.Namespace(**config_dict)\n",
    "\n",
    "    return args"
   ]
  },
  {
   "cell_type": "code",
   "execution_count": 8,
   "id": "44d095f7-9e3f-4778-a505-d893cb6c48a1",
   "metadata": {},
   "outputs": [],
   "source": [
    "def summary_by_metrics(experiment_name):\n",
    "    home = os.getcwd()\n",
    "    args = load_arguments('sine_config.json')\n",
    "    factors = extract_factors(args.ts_size)\n",
    "    metrics_list = []\n",
    "\n",
    "    hyper_names = ['mask_size', 'num_masks']\n",
    "    mse_list = list()\n",
    "    mae_list = list()\n",
    "    \n",
    "    for mask_size in factors:\n",
    "        for num_masks in range(1, min(2, int(args.ts_size // mask_size))):\n",
    "            # Find the right config for the instance\n",
    "            hyper_values = [mask_size, num_masks]\n",
    "            hyper_comb = dict(zip(hyper_names, hyper_values))\n",
    "            instance_name = ','.join(['%s=%.4g' % (name, value) if isinstance(value, float)\n",
    "                                      else '%s=%s' % (name, str(value).replace(' ', '_'))\n",
    "                                      for name, value in hyper_comb.items()])\n",
    "            \n",
    "            storage_dir = os.path.join(home, 'storage')\n",
    "            experiment_dir = os.path.join(storage_dir, experiment_name)\n",
    "            instance_dir = os.path.join(args.experiment_dir, instance_name)\n",
    "            impute_dir = os.path.join(instance_dir, 'impute')\n",
    "            args.impute_dir = impute_dir\n",
    "            \n",
    "            data_mean_impute = load_under_impute(args, 'mean_impute.npy')\n",
    "            data_median_impute = load_under_impute(args, 'median_impute.npy')\n",
    "            data_knn_impute = load_under_impute(args, 'knn_impute.npy')\n",
    "            data_soft_impute = load_under_impute(args, 'soft_impute.npy')\n",
    "            data_mai_impute = load_under_impute(args, 'mai_impute.npy')\n",
    "            data_brits_impute = load_under_impute(args, 'brits_impute.npy')\n",
    "            \n",
    "            data_original = load_under_impute(args, 'ori_impute.npy')\n",
    "            masks = load_under_impute(args, 'masks.npy')\n",
    "\n",
    "            mse_mean_impute = mse_loss(data_mean_impute, data_original, masks)\n",
    "            mse_median_impute = mse_loss(data_median_impute, data_original, masks)\n",
    "            mse_knn_impute = mse_loss(data_knn_impute, data_original, masks)\n",
    "            mse_soft_impute = mse_loss(data_soft_impute, data_original, masks)\n",
    "            mse_mai_impute = mse_loss(data_mai_impute, data_original, masks)\n",
    "            mse_brits_impute = mse_loss(data_brits_impute, data_original, masks)\n",
    "\n",
    "            mae_mean_impute = mean_absolute_error(data_mean_impute[masks], data_original[masks])\n",
    "            mae_median_impute = mean_absolute_error(data_median_impute[masks], data_original[masks])\n",
    "            mae_knn_impute = mean_absolute_error(data_knn_impute[masks], data_original[masks])\n",
    "            mae_soft_impute = mean_absolute_error(data_soft_impute[masks], data_original[masks])\n",
    "            mae_mai_impute = mean_absolute_error(data_mai_impute[masks], data_original[masks])\n",
    "            mae_brits_impute = mean_absolute_error(data_brits_impute[masks], data_original[masks])\n",
    "            \n",
    "            mse = [mse_mean_impute, mse_median_impute, mse_soft_impute, mse_knn_impute, mse_brits_impute, mse_mai_impute]\n",
    "            mae = [mae_mean_impute, mae_median_impute, mae_soft_impute, mae_knn_impute, mae_brits_impute, mae_mai_impute]\n",
    "            \n",
    "            metrics_dict = {\"mse\": mse, \n",
    "                            \"mae\": mae}\n",
    "            metrics_df = pd.DataFrame(metrics_dict, index=['mean', 'median', 'soft', 'knn', 'brits', 'mai'])\n",
    "            save_under_impute(args, 'impute_metrics.npy', metrics_df)\n",
    "            instance_name_short = f's{mask_size}n{num_masks}'\n",
    "            # print(f'{instance_name_short} results:\\n{metrics_df}\\n')\n",
    "            \n",
    "            metrics_np = load_under_impute(args, 'impute_metrics.npy')\n",
    "            temp_mse = metrics_np[:, 0].reshape(1, 6)\n",
    "            temp_mae = metrics_np[:, 1].reshape(1, 6)\n",
    "            mse_df = pd.DataFrame(temp_mse, columns=['mean', 'median', 'soft', 'knn', 'brits', 'mai'], index=[instance_name_short])\n",
    "            mae_df = pd.DataFrame(temp_mae, columns=['mean', 'median', 'soft', 'knn', 'brits', 'mai'], index=[instance_name_short])\n",
    "            mse_list.append(mse_df)\n",
    "            mae_list.append(mae_df)\n",
    "            \n",
    "    mse_results = pd.concat(mse_list)\n",
    "    mae_results = pd.concat(mae_list)\n",
    "    return mse_results, mae_results\n",
    "            "
   ]
  },
  {
   "cell_type": "code",
   "execution_count": 9,
   "id": "32850208-b40e-40ff-828e-60c93788a347",
   "metadata": {},
   "outputs": [],
   "source": [
    "mse_results, mae_results = summary_by_metrics('sine_mask_ratio')"
   ]
  },
  {
   "cell_type": "code",
   "execution_count": 10,
   "id": "c8e35af7-35a0-4141-bf14-1bf1e9978888",
   "metadata": {
    "tags": []
   },
   "outputs": [
    {
     "name": "stdout",
     "output_type": "stream",
     "text": [
      "        mse_mean   mse_std\n",
      "mean    0.054078  0.000275\n",
      "median  0.058664  0.000405\n",
      "soft    0.055536  0.129065\n",
      "knn     0.049562  0.131116\n",
      "brits   0.024658  0.026758\n",
      "mai     0.006909  0.005930\n"
     ]
    }
   ],
   "source": [
    "mse_mean = mse_results.mean()\n",
    "mse_std = mse_results.std()\n",
    "mse_summary = pd.concat([mse_mean, mse_std], axis=1)\n",
    "mse_summary.columns = ['mse_mean', 'mse_std']\n",
    "print(mse_summary)"
   ]
  },
  {
   "cell_type": "code",
   "execution_count": 11,
   "id": "ef212585-5f5c-4a19-a622-7e68767472fd",
   "metadata": {},
   "outputs": [
    {
     "name": "stdout",
     "output_type": "stream",
     "text": [
      "        mae_mean   mae_std\n",
      "mean    0.185266  0.000522\n",
      "median  0.180327  0.000464\n",
      "soft    0.106553  0.175541\n",
      "knn     0.071565  0.186300\n",
      "brits   0.090853  0.057934\n",
      "mai     0.049477  0.021355\n"
     ]
    }
   ],
   "source": [
    "mae_mean = mae_results.mean()\n",
    "mae_std = mae_results.std()\n",
    "mae_summary = pd.concat([mae_mean, mae_std], axis=1)\n",
    "mae_summary.columns = ['mae_mean', 'mae_std']\n",
    "print(mae_summary)"
   ]
  },
  {
   "cell_type": "markdown",
   "id": "3a968a44-7ce5-4859-ae52-b1cbb3d034a9",
   "metadata": {},
   "source": [
    "# Energy"
   ]
  },
  {
   "cell_type": "code",
   "execution_count": 12,
   "id": "00565c32-3a76-42b9-b48e-0c8c240226bd",
   "metadata": {},
   "outputs": [],
   "source": [
    "def summary_by_metrics(experiment_name):\n",
    "    home = os.getcwd()\n",
    "    args = load_arguments('energy_config.json')\n",
    "    factors = extract_factors(args.ts_size)\n",
    "    metrics_list = []\n",
    "\n",
    "    hyper_names = ['mask_size', 'num_masks']\n",
    "    mse_list = list()\n",
    "    mae_list = list()\n",
    "    \n",
    "    for mask_size in factors:\n",
    "        for num_masks in range(1, min(int(args.ts_size // mask_size), 10)):\n",
    "            # Find the right config for the instance\n",
    "            hyper_values = [mask_size, num_masks]\n",
    "            hyper_comb = dict(zip(hyper_names, hyper_values))\n",
    "            instance_name = ','.join(['%s=%.4g' % (name, value) if isinstance(value, float)\n",
    "                                      else '%s=%s' % (name, str(value).replace(' ', '_'))\n",
    "                                      for name, value in hyper_comb.items()])\n",
    "            \n",
    "            storage_dir = os.path.join(home, 'storage')\n",
    "            experiment_dir = os.path.join(storage_dir, experiment_name)\n",
    "            instance_dir = os.path.join(args.experiment_dir, instance_name)\n",
    "            impute_dir = os.path.join(instance_dir, 'impute')\n",
    "            args.impute_dir = impute_dir\n",
    "            \n",
    "            data_mean_impute = load_under_impute(args, 'mean_impute.npy')\n",
    "            data_median_impute = load_under_impute(args, 'median_impute.npy')\n",
    "            data_knn_impute = load_under_impute(args, 'knn_impute.npy')\n",
    "            data_soft_impute = load_under_impute(args, 'soft_impute.npy')\n",
    "            data_mai_impute = load_under_impute(args, 'mai_impute.npy')\n",
    "            data_brits_impute = load_under_impute(args, 'brits_impute.npy')\n",
    "            \n",
    "            data_original = load_under_impute(args, 'ori_impute.npy')\n",
    "            masks = load_under_impute(args, 'masks.npy')\n",
    "\n",
    "            mse_mean_impute = mse_loss(data_mean_impute, data_original, masks)\n",
    "            mse_median_impute = mse_loss(data_median_impute, data_original, masks)\n",
    "            mse_knn_impute = mse_loss(data_knn_impute, data_original, masks)\n",
    "            mse_soft_impute = mse_loss(data_soft_impute, data_original, masks)\n",
    "            mse_mai_impute = mse_loss(data_mai_impute, data_original, masks)\n",
    "            mse_brits_impute = mse_loss(data_brits_impute, data_original, masks)\n",
    "\n",
    "            mae_mean_impute = mean_absolute_error(data_mean_impute[masks], data_original[masks])\n",
    "            mae_median_impute = mean_absolute_error(data_median_impute[masks], data_original[masks])\n",
    "            mae_knn_impute = mean_absolute_error(data_knn_impute[masks], data_original[masks])\n",
    "            mae_soft_impute = mean_absolute_error(data_soft_impute[masks], data_original[masks])\n",
    "            mae_mai_impute = mean_absolute_error(data_mai_impute[masks], data_original[masks])\n",
    "            mae_brits_impute = mean_absolute_error(data_brits_impute[masks], data_original[masks])\n",
    "            \n",
    "            mse = [mse_mean_impute, mse_median_impute, mse_soft_impute, mse_knn_impute, mse_brits_impute, mse_mai_impute]\n",
    "            mae = [mae_mean_impute, mae_median_impute, mae_soft_impute, mae_knn_impute, mae_brits_impute, mae_mai_impute]\n",
    "            \n",
    "            metrics_dict = {\"mse\": mse, \n",
    "                            \"mae\": mae}\n",
    "            metrics_df = pd.DataFrame(metrics_dict, index=['mean', 'median', 'soft', 'knn', 'brits', 'mai'])\n",
    "            save_under_impute(args, 'impute_metrics.npy', metrics_df)\n",
    "            instance_name_short = f's{mask_size}n{num_masks}'\n",
    "            # print(f'{instance_name_short} results:\\n{metrics_df}\\n')\n",
    "            \n",
    "            metrics_np = load_under_impute(args, 'impute_metrics.npy')\n",
    "            temp_mse = metrics_np[:, 0].reshape(1, 6)\n",
    "            temp_mae = metrics_np[:, 1].reshape(1, 6)\n",
    "            mse_df = pd.DataFrame(temp_mse, columns=['mean', 'median', 'soft', 'knn', 'brits', 'mai'], index=[instance_name_short])\n",
    "            mae_df = pd.DataFrame(temp_mae, columns=['mean', 'median', 'soft', 'knn', 'brits', 'mai'], index=[instance_name_short])\n",
    "            mse_list.append(mse_df)\n",
    "            mae_list.append(mae_df)\n",
    "            \n",
    "    mse_results = pd.concat(mse_list)\n",
    "    mae_results = pd.concat(mae_list)\n",
    "    return mse_results, mae_results"
   ]
  },
  {
   "cell_type": "code",
   "execution_count": 13,
   "id": "b1914429-17ad-42e0-86cd-26ed6b38aa29",
   "metadata": {
    "tags": []
   },
   "outputs": [],
   "source": [
    "mse_results, mae_results = summary_by_metrics('energy_mask_ratio')"
   ]
  },
  {
   "cell_type": "code",
   "execution_count": 14,
   "id": "695462a7-5f5f-481e-91d7-8389fa49ed5d",
   "metadata": {
    "tags": []
   },
   "outputs": [
    {
     "name": "stdout",
     "output_type": "stream",
     "text": [
      "        mse_mean   mse_std\n",
      "mean    0.034793  0.000021\n",
      "median  0.035361  0.000024\n",
      "soft    0.051196  0.086141\n",
      "knn     0.043399  0.084359\n",
      "brits   0.009238  0.005403\n",
      "mai     0.008874  0.000965\n"
     ]
    }
   ],
   "source": [
    "mse_mean = mse_results.mean()\n",
    "mse_std = mse_results.std()\n",
    "mse_summary = pd.concat([mse_mean, mse_std], axis=1)\n",
    "mse_summary.columns = ['mse_mean', 'mse_std']\n",
    "print(mse_summary)"
   ]
  },
  {
   "cell_type": "code",
   "execution_count": 15,
   "id": "733fc50b-6851-4583-b094-c7859f6acb10",
   "metadata": {},
   "outputs": [
    {
     "name": "stdout",
     "output_type": "stream",
     "text": [
      "        mae_mean   mae_std\n",
      "mean    0.144116  0.000042\n",
      "median  0.141666  0.000046\n",
      "soft    0.120548  0.149576\n",
      "knn     0.092034  0.143274\n",
      "brits   0.041971  0.024164\n",
      "mai     0.036580  0.007327\n"
     ]
    }
   ],
   "source": [
    "mae_mean = mae_results.mean()\n",
    "mae_std = mae_results.std()\n",
    "mae_summary = pd.concat([mae_mean, mae_std], axis=1)\n",
    "mae_summary.columns = ['mae_mean', 'mae_std']\n",
    "print(mae_summary)"
   ]
  }
 ],
 "metadata": {
  "kernelspec": {
   "display_name": "Python 3",
   "language": "python",
   "name": "python3"
  },
  "language_info": {
   "codemirror_mode": {
    "name": "ipython",
    "version": 3
   },
   "file_extension": ".py",
   "mimetype": "text/x-python",
   "name": "python",
   "nbconvert_exporter": "python",
   "pygments_lexer": "ipython3",
   "version": "3.6.13"
  }
 },
 "nbformat": 4,
 "nbformat_minor": 5
}
